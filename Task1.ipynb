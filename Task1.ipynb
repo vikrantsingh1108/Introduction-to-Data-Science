{
 "cells": [
  {
   "cell_type": "code",
   "execution_count": null,
   "metadata": {},
   "outputs": [],
   "source": [
    "#1. Brands per place"
   ]
  },
  {
   "cell_type": "code",
   "execution_count": 1,
   "metadata": {},
   "outputs": [],
   "source": [
    "import pandas as pd"
   ]
  },
  {
   "cell_type": "code",
   "execution_count": 2,
   "metadata": {},
   "outputs": [],
   "source": [
    "data_station = pd.read_csv('example_sprit_cut_station.csv', delimiter = ',')"
   ]
  },
  {
   "cell_type": "code",
   "execution_count": 3,
   "metadata": {},
   "outputs": [
    {
     "data": {
      "text/html": [
       "<div>\n",
       "<style>\n",
       "    .dataframe thead tr:only-child th {\n",
       "        text-align: right;\n",
       "    }\n",
       "\n",
       "    .dataframe thead th {\n",
       "        text-align: left;\n",
       "    }\n",
       "\n",
       "    .dataframe tbody tr th {\n",
       "        vertical-align: top;\n",
       "    }\n",
       "</style>\n",
       "<table border=\"1\" class=\"dataframe\">\n",
       "  <thead>\n",
       "    <tr style=\"text-align: right;\">\n",
       "      <th></th>\n",
       "      <th>ID</th>\n",
       "      <th>VERSION</th>\n",
       "      <th>VERSION_TIME</th>\n",
       "      <th>NAME</th>\n",
       "      <th>BRAND</th>\n",
       "      <th>STREET</th>\n",
       "      <th>HOUSE_NUMBER</th>\n",
       "      <th>POST_CODE</th>\n",
       "      <th>PLACE</th>\n",
       "      <th>PUBLIC_HOLIDAY_IDENTIFIER</th>\n",
       "      <th>LAT</th>\n",
       "      <th>LNG</th>\n",
       "    </tr>\n",
       "  </thead>\n",
       "  <tbody>\n",
       "    <tr>\n",
       "      <th>0</th>\n",
       "      <td>d37bee76-91b6-485a-b974-24f1b0d391fa</td>\n",
       "      <td>4</td>\n",
       "      <td>2015-01-09 10:26:15.000000</td>\n",
       "      <td>Aral Tankstelle</td>\n",
       "      <td>ARAL</td>\n",
       "      <td>An der Tagweide</td>\n",
       "      <td>2</td>\n",
       "      <td>76139</td>\n",
       "      <td>Karlsruhe</td>\n",
       "      <td>\\N</td>\n",
       "      <td>49.020280</td>\n",
       "      <td>8.459429</td>\n",
       "    </tr>\n",
       "    <tr>\n",
       "      <th>1</th>\n",
       "      <td>51d4b652-a095-1aa0-e100-80009459e03a</td>\n",
       "      <td>796</td>\n",
       "      <td>2015-09-28 21:00:13.000000</td>\n",
       "      <td>JET MANNHEIM UNTERMUEHLAUSTRASSE 83</td>\n",
       "      <td>JET</td>\n",
       "      <td>UNTERMUEHLAUSTRASSE 83</td>\n",
       "      <td>\\N</td>\n",
       "      <td>68169</td>\n",
       "      <td>MANNHEIM</td>\n",
       "      <td>\\N</td>\n",
       "      <td>49.508962</td>\n",
       "      <td>8.467691</td>\n",
       "    </tr>\n",
       "    <tr>\n",
       "      <th>2</th>\n",
       "      <td>c7caf231-0e47-40db-92de-9349a2eb2bef</td>\n",
       "      <td>4</td>\n",
       "      <td>2014-09-26 13:24:57.000000</td>\n",
       "      <td>Aral Tankstelle</td>\n",
       "      <td>ARAL</td>\n",
       "      <td>Trippstadter Straße</td>\n",
       "      <td>69</td>\n",
       "      <td>67663</td>\n",
       "      <td>Kaiserslautern</td>\n",
       "      <td>\\N</td>\n",
       "      <td>49.433754</td>\n",
       "      <td>7.757465</td>\n",
       "    </tr>\n",
       "    <tr>\n",
       "      <th>3</th>\n",
       "      <td>51d4b53b-a095-1aa0-e100-80009459e03a</td>\n",
       "      <td>796</td>\n",
       "      <td>2015-09-28 21:00:13.000000</td>\n",
       "      <td>JET KAISERSLAUTERN PARISER STR. 167</td>\n",
       "      <td>JET</td>\n",
       "      <td>PARISER STR. 167</td>\n",
       "      <td>\\N</td>\n",
       "      <td>67655</td>\n",
       "      <td>KAISERSLAUTERN</td>\n",
       "      <td>\\N</td>\n",
       "      <td>49.442200</td>\n",
       "      <td>7.748360</td>\n",
       "    </tr>\n",
       "    <tr>\n",
       "      <th>4</th>\n",
       "      <td>51d4b70f-a095-1aa0-e100-80009459e03a</td>\n",
       "      <td>796</td>\n",
       "      <td>2015-09-28 21:00:13.000000</td>\n",
       "      <td>JET GERMERSHEIM MUENCHENER STRASSE 12</td>\n",
       "      <td>JET</td>\n",
       "      <td>MUENCHENER STRASSE 12</td>\n",
       "      <td>\\N</td>\n",
       "      <td>76726</td>\n",
       "      <td>GERMERSHEIM</td>\n",
       "      <td>\\N</td>\n",
       "      <td>49.226800</td>\n",
       "      <td>8.374400</td>\n",
       "    </tr>\n",
       "  </tbody>\n",
       "</table>\n",
       "</div>"
      ],
      "text/plain": [
       "                                     ID  VERSION                VERSION_TIME  \\\n",
       "0  d37bee76-91b6-485a-b974-24f1b0d391fa        4  2015-01-09 10:26:15.000000   \n",
       "1  51d4b652-a095-1aa0-e100-80009459e03a      796  2015-09-28 21:00:13.000000   \n",
       "2  c7caf231-0e47-40db-92de-9349a2eb2bef        4  2014-09-26 13:24:57.000000   \n",
       "3  51d4b53b-a095-1aa0-e100-80009459e03a      796  2015-09-28 21:00:13.000000   \n",
       "4  51d4b70f-a095-1aa0-e100-80009459e03a      796  2015-09-28 21:00:13.000000   \n",
       "\n",
       "                                    NAME BRAND                  STREET  \\\n",
       "0                        Aral Tankstelle  ARAL         An der Tagweide   \n",
       "1    JET MANNHEIM UNTERMUEHLAUSTRASSE 83   JET  UNTERMUEHLAUSTRASSE 83   \n",
       "2                        Aral Tankstelle  ARAL     Trippstadter Straße   \n",
       "3    JET KAISERSLAUTERN PARISER STR. 167   JET        PARISER STR. 167   \n",
       "4  JET GERMERSHEIM MUENCHENER STRASSE 12   JET   MUENCHENER STRASSE 12   \n",
       "\n",
       "  HOUSE_NUMBER POST_CODE           PLACE PUBLIC_HOLIDAY_IDENTIFIER        LAT  \\\n",
       "0            2     76139       Karlsruhe                        \\N  49.020280   \n",
       "1           \\N     68169        MANNHEIM                        \\N  49.508962   \n",
       "2           69     67663  Kaiserslautern                        \\N  49.433754   \n",
       "3           \\N     67655  KAISERSLAUTERN                        \\N  49.442200   \n",
       "4           \\N     76726     GERMERSHEIM                        \\N  49.226800   \n",
       "\n",
       "        LNG  \n",
       "0  8.459429  \n",
       "1  8.467691  \n",
       "2  7.757465  \n",
       "3  7.748360  \n",
       "4  8.374400  "
      ]
     },
     "execution_count": 3,
     "metadata": {},
     "output_type": "execute_result"
    }
   ],
   "source": [
    "data_station.head()"
   ]
  },
  {
   "cell_type": "code",
   "execution_count": 6,
   "metadata": {},
   "outputs": [],
   "source": [
    "data_station['PLACE'] = data_station['PLACE'].str.lower()\n",
    "data_station['PLACE'] = data_station['PLACE'].dropna()"
   ]
  },
  {
   "cell_type": "code",
   "execution_count": 7,
   "metadata": {},
   "outputs": [],
   "source": [
    "data_station['BRAND'] = data_station['BRAND'].str.lower()\n",
    "data_station['BRAND'] = data_station['BRAND'].dropna()"
   ]
  },
  {
   "cell_type": "code",
   "execution_count": 8,
   "metadata": {},
   "outputs": [
    {
     "data": {
      "text/plain": [
       "PLACE\n",
       "\\n                          1\n",
       "altrip                      1\n",
       "alzey                       3\n",
       "annweiler                   2\n",
       "annweiler-queichhambach     1\n",
       "au am rhein                 1\n",
       "bad bergzabern              2\n",
       "bad duerkheim               2\n",
       "bad dürkheim                2\n",
       "bad herrenalb               1\n",
       "bad sobernheim              2\n",
       "baden-baden                 1\n",
       "bann                        1\n",
       "bellheim                    2\n",
       "biblis                      2\n",
       "bietigheim                  2\n",
       "birkenheide                 1\n",
       "bobenheim-roxheim           0\n",
       "bockenheim                  1\n",
       "bÖhl-iggelheim              1\n",
       "bürstadt                    4\n",
       "carlsberg                   1\n",
       "dahn                        1\n",
       "dannstadt                   1\n",
       "dannstadt-schauernhe        1\n",
       "deidesheim                  1\n",
       "dettenheim-liedolsheim      1\n",
       "dirmstein                   1\n",
       "dorn-dürkheim               1\n",
       "dudenhofen                  1\n",
       "                           ..\n",
       "rockenhausen                2\n",
       "rodalben                    1\n",
       "roemerberg                  1\n",
       "rohrbach bei landau         1\n",
       "ruelzheim                   1\n",
       "rülzheim                    1\n",
       "saalstadt                   1\n",
       "schifferstadt               4\n",
       "schwegenheim                1\n",
       "sien                        1\n",
       "speyer                      7\n",
       "standenbühl                 1\n",
       "steinweiler                 1\n",
       "stutensee                   1\n",
       "stutensee-blankenloch       1\n",
       "thaleischweiler-fröschen    1\n",
       "vinningen                   1\n",
       "wachenheim                  2\n",
       "waldbronn                   2\n",
       "waldfischbach-burgalben     2\n",
       "waldsee                     1\n",
       "wartenberg-rohrbach         1\n",
       "wattenheim                  1\n",
       "weilerbach                  2\n",
       "westhofen                   1\n",
       "winnweiler                  1\n",
       "woerth                      3\n",
       "worms                       7\n",
       "worms-pfeddersheim          1\n",
       "Ötigheim                    1\n",
       "Name: BRAND, Length: 167, dtype: int64"
      ]
     },
     "execution_count": 8,
     "metadata": {},
     "output_type": "execute_result"
    }
   ],
   "source": [
    "data_station.groupby('PLACE')['BRAND'].nunique()"
   ]
  },
  {
   "cell_type": "code",
   "execution_count": 9,
   "metadata": {},
   "outputs": [],
   "source": [
    "get_ipython().magic('matplotlib inline')"
   ]
  },
  {
   "cell_type": "code",
   "execution_count": 10,
   "metadata": {},
   "outputs": [
    {
     "data": {
      "text/plain": [
       "<matplotlib.axes._subplots.AxesSubplot at 0x7f2686731750>"
      ]
     },
     "execution_count": 10,
     "metadata": {},
     "output_type": "execute_result"
    },
    {
     "data": {
      "image/png": "[encoded data removed]",
      "text/plain": [
       "<matplotlib.figure.Figure at 0x7f268438c050>"
      ]
     },
     "metadata": {},
     "output_type": "display_data"
    }
   ],
   "source": [
    "data_station.groupby('PLACE')['BRAND'].nunique().plot(kind='bar')"
   ]
  },
  {
   "cell_type": "code",
   "execution_count": null,
   "metadata": {},
   "outputs": [],
   "source": [
    "#How many different brands are there?"
   ]
  },
  {
   "cell_type": "code",
   "execution_count": 12,
   "metadata": {},
   "outputs": [],
   "source": [
    "data_station_brand=data_station['BRAND'].str.lower()"
   ]
  },
  {
   "cell_type": "code",
   "execution_count": 13,
   "metadata": {},
   "outputs": [],
   "source": [
    "data_station_new=data_station_brand.dropna()"
   ]
  },
  {
   "cell_type": "code",
   "execution_count": 17,
   "metadata": {},
   "outputs": [
    {
     "data": {
      "text/plain": [
       "51"
      ]
     },
     "execution_count": 17,
     "metadata": {},
     "output_type": "execute_result"
    }
   ],
   "source": [
    "brands = data_station_new.nunique()\n",
    "brands"
   ]
  },
  {
   "cell_type": "code",
   "execution_count": null,
   "metadata": {},
   "outputs": [],
   "source": [
    "# How many different loca!ons are present in the data?"
   ]
  },
  {
   "cell_type": "code",
   "execution_count": 27,
   "metadata": {},
   "outputs": [],
   "source": [
    "data_station_places =data_station['PLACE'].str.lower()"
   ]
  },
  {
   "cell_type": "code",
   "execution_count": 28,
   "metadata": {},
   "outputs": [],
   "source": [
    "data_station1=data_station_places.dropna()"
   ]
  },
  {
   "cell_type": "code",
   "execution_count": 32,
   "metadata": {},
   "outputs": [
    {
     "data": {
      "text/plain": [
       "167"
      ]
     },
     "execution_count": 32,
     "metadata": {},
     "output_type": "execute_result"
    }
   ],
   "source": [
    "places = data_station1.nunique()\n",
    "places"
   ]
  },
  {
   "cell_type": "code",
   "execution_count": null,
   "metadata": {},
   "outputs": [],
   "source": []
  },
  {
   "cell_type": "code",
   "execution_count": null,
   "metadata": {},
   "outputs": [],
   "source": [
    "# What is the min, max price for each gasoline type, per month?"
   ]
  },
  {
   "cell_type": "code",
   "execution_count": 19,
   "metadata": {},
   "outputs": [],
   "source": [
    "data_prices = pd.read_csv('example_sprit_cut_prices.csv', delimiter = ',')"
   ]
  },
  {
   "cell_type": "code",
   "execution_count": 21,
   "metadata": {},
   "outputs": [
    {
     "data": {
      "text/html": [
       "<div>\n",
       "<style>\n",
       "    .dataframe thead tr:only-child th {\n",
       "        text-align: right;\n",
       "    }\n",
       "\n",
       "    .dataframe thead th {\n",
       "        text-align: left;\n",
       "    }\n",
       "\n",
       "    .dataframe tbody tr th {\n",
       "        vertical-align: top;\n",
       "    }\n",
       "</style>\n",
       "<table border=\"1\" class=\"dataframe\">\n",
       "  <thead>\n",
       "    <tr style=\"text-align: right;\">\n",
       "      <th></th>\n",
       "      <th>STID</th>\n",
       "      <th>E5</th>\n",
       "      <th>E10</th>\n",
       "      <th>DIESEL</th>\n",
       "      <th>DATE_CHANGED</th>\n",
       "      <th>CHANGED</th>\n",
       "    </tr>\n",
       "  </thead>\n",
       "  <tbody>\n",
       "    <tr>\n",
       "      <th>0</th>\n",
       "      <td>01bf5a06-4248-43a5-9524-56123fa3ab2f</td>\n",
       "      <td>1589</td>\n",
       "      <td>1549</td>\n",
       "      <td>1389</td>\n",
       "      <td>2014-10-02 05:22:01.000000</td>\n",
       "      <td>21</td>\n",
       "    </tr>\n",
       "    <tr>\n",
       "      <th>1</th>\n",
       "      <td>01bf5a06-4248-43a5-9524-56123fa3ab2f</td>\n",
       "      <td>1569</td>\n",
       "      <td>1529</td>\n",
       "      <td>1369</td>\n",
       "      <td>2014-10-02 05:26:01.000000</td>\n",
       "      <td>21</td>\n",
       "    </tr>\n",
       "    <tr>\n",
       "      <th>2</th>\n",
       "      <td>01bf5a06-4248-43a5-9524-56123fa3ab2f</td>\n",
       "      <td>1569</td>\n",
       "      <td>1529</td>\n",
       "      <td>1359</td>\n",
       "      <td>2014-10-02 09:06:01.000000</td>\n",
       "      <td>1</td>\n",
       "    </tr>\n",
       "    <tr>\n",
       "      <th>3</th>\n",
       "      <td>01bf5a06-4248-43a5-9524-56123fa3ab2f</td>\n",
       "      <td>1539</td>\n",
       "      <td>1499</td>\n",
       "      <td>1339</td>\n",
       "      <td>2014-10-03 12:14:01.000000</td>\n",
       "      <td>21</td>\n",
       "    </tr>\n",
       "    <tr>\n",
       "      <th>4</th>\n",
       "      <td>01bf5a06-4248-43a5-9524-56123fa3ab2f</td>\n",
       "      <td>1529</td>\n",
       "      <td>1489</td>\n",
       "      <td>1329</td>\n",
       "      <td>2014-10-03 14:14:01.000000</td>\n",
       "      <td>21</td>\n",
       "    </tr>\n",
       "  </tbody>\n",
       "</table>\n",
       "</div>"
      ],
      "text/plain": [
       "                                   STID    E5   E10  DIESEL  \\\n",
       "0  01bf5a06-4248-43a5-9524-56123fa3ab2f  1589  1549    1389   \n",
       "1  01bf5a06-4248-43a5-9524-56123fa3ab2f  1569  1529    1369   \n",
       "2  01bf5a06-4248-43a5-9524-56123fa3ab2f  1569  1529    1359   \n",
       "3  01bf5a06-4248-43a5-9524-56123fa3ab2f  1539  1499    1339   \n",
       "4  01bf5a06-4248-43a5-9524-56123fa3ab2f  1529  1489    1329   \n",
       "\n",
       "                 DATE_CHANGED  CHANGED  \n",
       "0  2014-10-02 05:22:01.000000       21  \n",
       "1  2014-10-02 05:26:01.000000       21  \n",
       "2  2014-10-02 09:06:01.000000        1  \n",
       "3  2014-10-03 12:14:01.000000       21  \n",
       "4  2014-10-03 14:14:01.000000       21  "
      ]
     },
     "execution_count": 21,
     "metadata": {},
     "output_type": "execute_result"
    }
   ],
   "source": [
    "data_prices.head()"
   ]
  },
  {
   "cell_type": "code",
   "execution_count": 22,
   "metadata": {},
   "outputs": [],
   "source": [
    "data_prices['DATE_CHANGED']= pd.to_datetime(data_prices.DATE_CHANGED)"
   ]
  },
  {
   "cell_type": "code",
   "execution_count": 23,
   "metadata": {},
   "outputs": [
    {
     "data": {
      "text/html": [
       "<div>\n",
       "<style>\n",
       "    .dataframe thead tr:only-child th {\n",
       "        text-align: right;\n",
       "    }\n",
       "\n",
       "    .dataframe thead th {\n",
       "        text-align: left;\n",
       "    }\n",
       "\n",
       "    .dataframe tbody tr th {\n",
       "        vertical-align: top;\n",
       "    }\n",
       "</style>\n",
       "<table border=\"1\" class=\"dataframe\">\n",
       "  <thead>\n",
       "    <tr style=\"text-align: right;\">\n",
       "      <th></th>\n",
       "      <th>STID</th>\n",
       "      <th>E5</th>\n",
       "      <th>E10</th>\n",
       "      <th>DIESEL</th>\n",
       "      <th>DATE_CHANGED</th>\n",
       "      <th>CHANGED</th>\n",
       "    </tr>\n",
       "  </thead>\n",
       "  <tbody>\n",
       "    <tr>\n",
       "      <th>0</th>\n",
       "      <td>01bf5a06-4248-43a5-9524-56123fa3ab2f</td>\n",
       "      <td>1589</td>\n",
       "      <td>1549</td>\n",
       "      <td>1389</td>\n",
       "      <td>2014-10-02 05:22:01</td>\n",
       "      <td>21</td>\n",
       "    </tr>\n",
       "    <tr>\n",
       "      <th>1</th>\n",
       "      <td>01bf5a06-4248-43a5-9524-56123fa3ab2f</td>\n",
       "      <td>1569</td>\n",
       "      <td>1529</td>\n",
       "      <td>1369</td>\n",
       "      <td>2014-10-02 05:26:01</td>\n",
       "      <td>21</td>\n",
       "    </tr>\n",
       "    <tr>\n",
       "      <th>2</th>\n",
       "      <td>01bf5a06-4248-43a5-9524-56123fa3ab2f</td>\n",
       "      <td>1569</td>\n",
       "      <td>1529</td>\n",
       "      <td>1359</td>\n",
       "      <td>2014-10-02 09:06:01</td>\n",
       "      <td>1</td>\n",
       "    </tr>\n",
       "    <tr>\n",
       "      <th>3</th>\n",
       "      <td>01bf5a06-4248-43a5-9524-56123fa3ab2f</td>\n",
       "      <td>1539</td>\n",
       "      <td>1499</td>\n",
       "      <td>1339</td>\n",
       "      <td>2014-10-03 12:14:01</td>\n",
       "      <td>21</td>\n",
       "    </tr>\n",
       "    <tr>\n",
       "      <th>4</th>\n",
       "      <td>01bf5a06-4248-43a5-9524-56123fa3ab2f</td>\n",
       "      <td>1529</td>\n",
       "      <td>1489</td>\n",
       "      <td>1329</td>\n",
       "      <td>2014-10-03 14:14:01</td>\n",
       "      <td>21</td>\n",
       "    </tr>\n",
       "  </tbody>\n",
       "</table>\n",
       "</div>"
      ],
      "text/plain": [
       "                                   STID    E5   E10  DIESEL  \\\n",
       "0  01bf5a06-4248-43a5-9524-56123fa3ab2f  1589  1549    1389   \n",
       "1  01bf5a06-4248-43a5-9524-56123fa3ab2f  1569  1529    1369   \n",
       "2  01bf5a06-4248-43a5-9524-56123fa3ab2f  1569  1529    1359   \n",
       "3  01bf5a06-4248-43a5-9524-56123fa3ab2f  1539  1499    1339   \n",
       "4  01bf5a06-4248-43a5-9524-56123fa3ab2f  1529  1489    1329   \n",
       "\n",
       "         DATE_CHANGED  CHANGED  \n",
       "0 2014-10-02 05:22:01       21  \n",
       "1 2014-10-02 05:26:01       21  \n",
       "2 2014-10-02 09:06:01        1  \n",
       "3 2014-10-03 12:14:01       21  \n",
       "4 2014-10-03 14:14:01       21  "
      ]
     },
     "execution_count": 23,
     "metadata": {},
     "output_type": "execute_result"
    }
   ],
   "source": [
    "data_prices.head()"
   ]
  },
  {
   "cell_type": "code",
   "execution_count": 24,
   "metadata": {},
   "outputs": [],
   "source": [
    "data_prices['DATE_CHANGED'] = data_prices['DATE_CHANGED'].apply(lambda x:x.strftime('%Y%m'))"
   ]
  },
  {
   "cell_type": "code",
   "execution_count": 25,
   "metadata": {},
   "outputs": [
    {
     "data": {
      "text/html": [
       "<div>\n",
       "<style>\n",
       "    .dataframe thead tr:only-child th {\n",
       "        text-align: right;\n",
       "    }\n",
       "\n",
       "    .dataframe thead th {\n",
       "        text-align: left;\n",
       "    }\n",
       "\n",
       "    .dataframe tbody tr th {\n",
       "        vertical-align: top;\n",
       "    }\n",
       "</style>\n",
       "<table border=\"1\" class=\"dataframe\">\n",
       "  <thead>\n",
       "    <tr style=\"text-align: right;\">\n",
       "      <th></th>\n",
       "      <th>min</th>\n",
       "      <th>max</th>\n",
       "      <th>mean</th>\n",
       "    </tr>\n",
       "    <tr>\n",
       "      <th>DATE_CHANGED</th>\n",
       "      <th></th>\n",
       "      <th></th>\n",
       "      <th></th>\n",
       "    </tr>\n",
       "  </thead>\n",
       "  <tbody>\n",
       "    <tr>\n",
       "      <th>201406</th>\n",
       "      <td>-1</td>\n",
       "      <td>1759</td>\n",
       "      <td>1600.759397</td>\n",
       "    </tr>\n",
       "    <tr>\n",
       "      <th>201407</th>\n",
       "      <td>-1</td>\n",
       "      <td>1999</td>\n",
       "      <td>1584.200231</td>\n",
       "    </tr>\n",
       "    <tr>\n",
       "      <th>201408</th>\n",
       "      <td>-1</td>\n",
       "      <td>1709</td>\n",
       "      <td>1553.124038</td>\n",
       "    </tr>\n",
       "    <tr>\n",
       "      <th>201409</th>\n",
       "      <td>0</td>\n",
       "      <td>1719</td>\n",
       "      <td>1541.628220</td>\n",
       "    </tr>\n",
       "    <tr>\n",
       "      <th>201410</th>\n",
       "      <td>0</td>\n",
       "      <td>1699</td>\n",
       "      <td>1497.974582</td>\n",
       "    </tr>\n",
       "    <tr>\n",
       "      <th>201411</th>\n",
       "      <td>0</td>\n",
       "      <td>1669</td>\n",
       "      <td>1454.168753</td>\n",
       "    </tr>\n",
       "    <tr>\n",
       "      <th>201412</th>\n",
       "      <td>-1</td>\n",
       "      <td>1569</td>\n",
       "      <td>1336.593345</td>\n",
       "    </tr>\n",
       "    <tr>\n",
       "      <th>201501</th>\n",
       "      <td>0</td>\n",
       "      <td>1449</td>\n",
       "      <td>1270.320987</td>\n",
       "    </tr>\n",
       "    <tr>\n",
       "      <th>201502</th>\n",
       "      <td>-1</td>\n",
       "      <td>1509</td>\n",
       "      <td>1328.772565</td>\n",
       "    </tr>\n",
       "    <tr>\n",
       "      <th>201503</th>\n",
       "      <td>-1</td>\n",
       "      <td>1559</td>\n",
       "      <td>1386.202220</td>\n",
       "    </tr>\n",
       "    <tr>\n",
       "      <th>201504</th>\n",
       "      <td>0</td>\n",
       "      <td>1629</td>\n",
       "      <td>1425.180877</td>\n",
       "    </tr>\n",
       "    <tr>\n",
       "      <th>201505</th>\n",
       "      <td>0</td>\n",
       "      <td>9990</td>\n",
       "      <td>1460.235515</td>\n",
       "    </tr>\n",
       "    <tr>\n",
       "      <th>201506</th>\n",
       "      <td>0</td>\n",
       "      <td>9999</td>\n",
       "      <td>1464.842862</td>\n",
       "    </tr>\n",
       "    <tr>\n",
       "      <th>201507</th>\n",
       "      <td>0</td>\n",
       "      <td>1749</td>\n",
       "      <td>1470.513575</td>\n",
       "    </tr>\n",
       "    <tr>\n",
       "      <th>201508</th>\n",
       "      <td>0</td>\n",
       "      <td>8888</td>\n",
       "      <td>1400.308713</td>\n",
       "    </tr>\n",
       "    <tr>\n",
       "      <th>201509</th>\n",
       "      <td>0</td>\n",
       "      <td>1549</td>\n",
       "      <td>1340.927436</td>\n",
       "    </tr>\n",
       "  </tbody>\n",
       "</table>\n",
       "</div>"
      ],
      "text/plain": [
       "              min   max         mean\n",
       "DATE_CHANGED                        \n",
       "201406         -1  1759  1600.759397\n",
       "201407         -1  1999  1584.200231\n",
       "201408         -1  1709  1553.124038\n",
       "201409          0  1719  1541.628220\n",
       "201410          0  1699  1497.974582\n",
       "201411          0  1669  1454.168753\n",
       "201412         -1  1569  1336.593345\n",
       "201501          0  1449  1270.320987\n",
       "201502         -1  1509  1328.772565\n",
       "201503         -1  1559  1386.202220\n",
       "201504          0  1629  1425.180877\n",
       "201505          0  9990  1460.235515\n",
       "201506          0  9999  1464.842862\n",
       "201507          0  1749  1470.513575\n",
       "201508          0  8888  1400.308713\n",
       "201509          0  1549  1340.927436"
      ]
     },
     "execution_count": 25,
     "metadata": {},
     "output_type": "execute_result"
    }
   ],
   "source": [
    "data_prices.groupby('DATE_CHANGED').E5.agg(['min','max','mean'])"
   ]
  },
  {
   "cell_type": "code",
   "execution_count": 26,
   "metadata": {},
   "outputs": [
    {
     "data": {
      "text/html": [
       "<div>\n",
       "<style>\n",
       "    .dataframe thead tr:only-child th {\n",
       "        text-align: right;\n",
       "    }\n",
       "\n",
       "    .dataframe thead th {\n",
       "        text-align: left;\n",
       "    }\n",
       "\n",
       "    .dataframe tbody tr th {\n",
       "        vertical-align: top;\n",
       "    }\n",
       "</style>\n",
       "<table border=\"1\" class=\"dataframe\">\n",
       "  <thead>\n",
       "    <tr style=\"text-align: right;\">\n",
       "      <th></th>\n",
       "      <th>min</th>\n",
       "      <th>max</th>\n",
       "      <th>mean</th>\n",
       "    </tr>\n",
       "    <tr>\n",
       "      <th>DATE_CHANGED</th>\n",
       "      <th></th>\n",
       "      <th></th>\n",
       "      <th></th>\n",
       "    </tr>\n",
       "  </thead>\n",
       "  <tbody>\n",
       "    <tr>\n",
       "      <th>201406</th>\n",
       "      <td>-1</td>\n",
       "      <td>1549</td>\n",
       "      <td>1395.907720</td>\n",
       "    </tr>\n",
       "    <tr>\n",
       "      <th>201407</th>\n",
       "      <td>-1</td>\n",
       "      <td>1999</td>\n",
       "      <td>1376.654325</td>\n",
       "    </tr>\n",
       "    <tr>\n",
       "      <th>201408</th>\n",
       "      <td>0</td>\n",
       "      <td>1589</td>\n",
       "      <td>1376.462977</td>\n",
       "    </tr>\n",
       "    <tr>\n",
       "      <th>201409</th>\n",
       "      <td>-1</td>\n",
       "      <td>1519</td>\n",
       "      <td>1366.433749</td>\n",
       "    </tr>\n",
       "    <tr>\n",
       "      <th>201410</th>\n",
       "      <td>0</td>\n",
       "      <td>1549</td>\n",
       "      <td>1331.240795</td>\n",
       "    </tr>\n",
       "    <tr>\n",
       "      <th>201411</th>\n",
       "      <td>0</td>\n",
       "      <td>1489</td>\n",
       "      <td>1310.581833</td>\n",
       "    </tr>\n",
       "    <tr>\n",
       "      <th>201412</th>\n",
       "      <td>-1</td>\n",
       "      <td>1399</td>\n",
       "      <td>1208.300241</td>\n",
       "    </tr>\n",
       "    <tr>\n",
       "      <th>201501</th>\n",
       "      <td>-1</td>\n",
       "      <td>1329</td>\n",
       "      <td>1135.582697</td>\n",
       "    </tr>\n",
       "    <tr>\n",
       "      <th>201502</th>\n",
       "      <td>0</td>\n",
       "      <td>1359</td>\n",
       "      <td>1195.699687</td>\n",
       "    </tr>\n",
       "    <tr>\n",
       "      <th>201503</th>\n",
       "      <td>-1</td>\n",
       "      <td>1449</td>\n",
       "      <td>1215.981474</td>\n",
       "    </tr>\n",
       "    <tr>\n",
       "      <th>201504</th>\n",
       "      <td>0</td>\n",
       "      <td>1529</td>\n",
       "      <td>1223.311807</td>\n",
       "    </tr>\n",
       "    <tr>\n",
       "      <th>201505</th>\n",
       "      <td>0</td>\n",
       "      <td>9990</td>\n",
       "      <td>1254.278414</td>\n",
       "    </tr>\n",
       "    <tr>\n",
       "      <th>201506</th>\n",
       "      <td>0</td>\n",
       "      <td>9999</td>\n",
       "      <td>1235.190359</td>\n",
       "    </tr>\n",
       "    <tr>\n",
       "      <th>201507</th>\n",
       "      <td>0</td>\n",
       "      <td>11290</td>\n",
       "      <td>1200.959767</td>\n",
       "    </tr>\n",
       "    <tr>\n",
       "      <th>201508</th>\n",
       "      <td>0</td>\n",
       "      <td>8888</td>\n",
       "      <td>1141.618715</td>\n",
       "    </tr>\n",
       "    <tr>\n",
       "      <th>201509</th>\n",
       "      <td>0</td>\n",
       "      <td>1390</td>\n",
       "      <td>1140.185733</td>\n",
       "    </tr>\n",
       "  </tbody>\n",
       "</table>\n",
       "</div>"
      ],
      "text/plain": [
       "              min    max         mean\n",
       "DATE_CHANGED                         \n",
       "201406         -1   1549  1395.907720\n",
       "201407         -1   1999  1376.654325\n",
       "201408          0   1589  1376.462977\n",
       "201409         -1   1519  1366.433749\n",
       "201410          0   1549  1331.240795\n",
       "201411          0   1489  1310.581833\n",
       "201412         -1   1399  1208.300241\n",
       "201501         -1   1329  1135.582697\n",
       "201502          0   1359  1195.699687\n",
       "201503         -1   1449  1215.981474\n",
       "201504          0   1529  1223.311807\n",
       "201505          0   9990  1254.278414\n",
       "201506          0   9999  1235.190359\n",
       "201507          0  11290  1200.959767\n",
       "201508          0   8888  1141.618715\n",
       "201509          0   1390  1140.185733"
      ]
     },
     "execution_count": 26,
     "metadata": {},
     "output_type": "execute_result"
    }
   ],
   "source": [
    "data_prices.groupby('DATE_CHANGED').DIESEL.agg(['min','max','mean'])"
   ]
  },
  {
   "cell_type": "code",
   "execution_count": 34,
   "metadata": {},
   "outputs": [
    {
     "data": {
      "text/plain": [
       "VERSION\n",
       "1      14\n",
       "2       5\n",
       "3       3\n",
       "4       8\n",
       "5      10\n",
       "6       2\n",
       "7       2\n",
       "9       3\n",
       "10      3\n",
       "11      1\n",
       "12      1\n",
       "13      1\n",
       "15      1\n",
       "16      3\n",
       "17      5\n",
       "18      3\n",
       "19      2\n",
       "20      1\n",
       "21      1\n",
       "22      3\n",
       "23      2\n",
       "24      3\n",
       "26      1\n",
       "28      1\n",
       "29      2\n",
       "30      1\n",
       "34      1\n",
       "35      1\n",
       "39      1\n",
       "87      1\n",
       "180     1\n",
       "232     2\n",
       "242     1\n",
       "243     1\n",
       "273     1\n",
       "328     1\n",
       "331     1\n",
       "621     1\n",
       "754     1\n",
       "762     1\n",
       "770     1\n",
       "771     1\n",
       "773     1\n",
       "775     1\n",
       "789     1\n",
       "796     3\n",
       "846     1\n",
       "864     1\n",
       "869     1\n",
       "881     1\n",
       "Name: BRAND, dtype: int64"
      ]
     },
     "execution_count": 34,
     "metadata": {},
     "output_type": "execute_result"
    }
   ],
   "source": [
    "get_ipython().magic('matplotlib inline')\n",
    "data_station.groupby('VERSION')['BRAND'].nunique()"
   ]
  },
  {
   "cell_type": "code",
   "execution_count": 35,
   "metadata": {},
   "outputs": [
    {
     "data": {
      "text/plain": [
       "<matplotlib.axes._subplots.AxesSubplot at 0x7f2681868110>"
      ]
     },
     "execution_count": 35,
     "metadata": {},
     "output_type": "execute_result"
    },
    {
     "data": {
      "image/png": "[encoded data removed]",
      "text/plain": [
       "<matplotlib.figure.Figure at 0x7f26b052ab50>"
      ]
     },
     "metadata": {},
     "output_type": "display_data"
    }
   ],
   "source": [
    "data_station.groupby('VERSION')['BRAND'].nunique().plot(kind='bar')"
   ]
  },
  {
   "cell_type": "code",
   "execution_count": 37,
   "metadata": {},
   "outputs": [
    {
     "data": {
      "text/plain": [
       "<matplotlib.axes._subplots.AxesSubplot at 0x7f267bf5e610>"
      ]
     },
     "execution_count": 37,
     "metadata": {},
     "output_type": "execute_result"
    },
    {
     "data": {
      "image/png": "[encoded data removed]",
      "text/plain": [
       "<matplotlib.figure.Figure at 0x7f267b73f050>"
      ]
     },
     "metadata": {},
     "output_type": "display_data"
    }
   ],
   "source": [
    "data_station.groupby('PLACE')['PUBLIC_HOLIDAY_IDENTIFIER'].nunique().plot(kind='bar')"
   ]
  },
  {
   "cell_type": "code",
   "execution_count": 38,
   "metadata": {},
   "outputs": [
    {
     "data": {
      "text/plain": [
       "<matplotlib.axes._subplots.AxesSubplot at 0x7f267bf5e590>"
      ]
     },
     "execution_count": 38,
     "metadata": {},
     "output_type": "execute_result"
    },
    {
     "data": {
      "image/png": "[encoded data removed]",
      "text/plain": [
       "<matplotlib.figure.Figure at 0x7f267b6e8690>"
      ]
     },
     "metadata": {},
     "output_type": "display_data"
    }
   ],
   "source": [
    "data_station.groupby('BRAND')['PLACE'].nunique().plot(kind='bar')"
   ]
  },
  {
   "cell_type": "code",
   "execution_count": null,
   "metadata": {},
   "outputs": [],
   "source": []
  }
 ],
 "metadata": {
  "kernelspec": {
   "display_name": "Python 3",
   "language": "python",
   "name": "python3"
  },
  "language_info": {
   "codemirror_mode": {
    "name": "ipython",
    "version": 2
   },
   "file_extension": ".py",
   "mimetype": "text/x-python",
   "name": "python",
   "nbconvert_exporter": "python",
   "pygments_lexer": "ipython2",
   "version": "2.7.13"
  }
 },
 "nbformat": 4,
 "nbformat_minor": 2
}
